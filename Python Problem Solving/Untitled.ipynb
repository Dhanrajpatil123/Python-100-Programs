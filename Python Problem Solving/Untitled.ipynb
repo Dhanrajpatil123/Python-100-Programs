{
 "cells": [
  {
   "cell_type": "markdown",
   "id": "82697e85",
   "metadata": {},
   "source": [
    "### 1. How to fiind average of N numbers"
   ]
  },
  {
   "cell_type": "code",
   "execution_count": 3,
   "id": "9683d131",
   "metadata": {},
   "outputs": [
    {
     "name": "stdout",
     "output_type": "stream",
     "text": [
      "How Many Numbers ? 3\n",
      "Enter Number : 3\n",
      "Enter Number : 2\n",
      "Enter Number : 10.0\n",
      "The Average Of Numbers is :  5.0\n"
     ]
    }
   ],
   "source": [
    "num = int(input(\"How Many Numbers ? \"))\n",
    "total_sum = 0\n",
    "\n",
    "for x in range(num):\n",
    "    user_num = float(input(\"Enter Number : \"))\n",
    "    total_sum += user_num\n",
    "\n",
    "average = total_sum / num \n",
    "print(\"The Average Of Numbers is : \", average)"
   ]
  },
  {
   "cell_type": "markdown",
   "id": "823c3fc5",
   "metadata": {},
   "source": [
    "### 2. How to sum of the first N positive integers"
   ]
  },
  {
   "cell_type": "code",
   "execution_count": 4,
   "id": "75490e9c",
   "metadata": {},
   "outputs": [
    {
     "name": "stdout",
     "output_type": "stream",
     "text": [
      "Enter any numbers 3\n",
      "6.0\n"
     ]
    }
   ],
   "source": [
    "num = int(input(\"Enter any numbers \"))\n",
    "total_sum = (num * (num + 1)) / 2\n",
    "print(total_sum)"
   ]
  },
  {
   "cell_type": "markdown",
   "id": "125200db",
   "metadata": {},
   "source": [
    "### 3. How to get time of a python program's execution"
   ]
  },
  {
   "cell_type": "code",
   "execution_count": 6,
   "id": "ce066036",
   "metadata": {},
   "outputs": [
    {
     "name": "stdout",
     "output_type": "stream",
     "text": [
      "(15, 0.0)\n"
     ]
    }
   ],
   "source": [
    "import time \n",
    "def myFunction():\n",
    "    start_time = time.time()\n",
    "    s = 0\n",
    "    for x in range(1, n+1):\n",
    "        s += x\n",
    "        \n",
    "    end_time = time.time()\n",
    "    return s, end_time - start_time\n",
    "\n",
    "n = 5\n",
    "print(myFunction())"
   ]
  },
  {
   "cell_type": "markdown",
   "id": "da8874fa",
   "metadata": {},
   "source": [
    "### 4. How to get current username"
   ]
  },
  {
   "cell_type": "code",
   "execution_count": 7,
   "id": "e4022dba",
   "metadata": {},
   "outputs": [
    {
     "name": "stdout",
     "output_type": "stream",
     "text": [
      "Dhanraj\n"
     ]
    }
   ],
   "source": [
    "import getpass\n",
    "\n",
    "print(getpass.getuser())"
   ]
  },
  {
   "cell_type": "markdown",
   "id": "6a2b4635",
   "metadata": {},
   "source": [
    "### 5. How to access environment variable"
   ]
  },
  {
   "cell_type": "code",
   "execution_count": 12,
   "id": "ebe3b8e5",
   "metadata": {},
   "outputs": [],
   "source": [
    "import os\n",
    "\n",
    "print(os.environ['PATH'])"
   ]
  },
  {
   "cell_type": "markdown",
   "id": "eb652869",
   "metadata": {},
   "source": [
    "### 6. How to do a profile a Python script"
   ]
  },
  {
   "cell_type": "code",
   "execution_count": 14,
   "id": "f72e6642",
   "metadata": {},
   "outputs": [],
   "source": [
    "import cProfile\n",
    "\n",
    "def sum():\n",
    "    print(1, 3)\n",
    "    \n",
    "cProfile.run('sum()')"
   ]
  },
  {
   "cell_type": "markdown",
   "id": "3092ca8a",
   "metadata": {},
   "source": [
    "### 7. How to find out  the version of python you are using"
   ]
  },
  {
   "cell_type": "code",
   "execution_count": 18,
   "id": "e61fbf65",
   "metadata": {},
   "outputs": [
    {
     "name": "stdout",
     "output_type": "stream",
     "text": [
      "Python Version\n",
      "3.10.1 (tags/v3.10.1:2cd268a, Dec  6 2021, 19:10:37) [MSC v.1929 64 bit (AMD64)]\n"
     ]
    }
   ],
   "source": [
    "import sys\n",
    "print(\"Python Version\")\n",
    "print(sys.version)\n",
    "# print(sys.version_info)"
   ]
  },
  {
   "cell_type": "markdown",
   "id": "c86a25b9",
   "metadata": {},
   "source": [
    "### 8. How to print current Date and Time"
   ]
  },
  {
   "cell_type": "code",
   "execution_count": 21,
   "id": "cd1b82b4",
   "metadata": {},
   "outputs": [
    {
     "name": "stdout",
     "output_type": "stream",
     "text": [
      "current date and time is :  24-05-08 11:05:30\n"
     ]
    }
   ],
   "source": [
    "import datetime\n",
    "\n",
    "now = datetime.datetime.now()\n",
    "print(\"current date and time is : \", now.strftime(\"%y-%m-%d %H:%m:%S\"))"
   ]
  },
  {
   "cell_type": "markdown",
   "id": "2d2966bc",
   "metadata": {},
   "source": [
    "### 9. How to find area of a circle"
   ]
  },
  {
   "cell_type": "code",
   "execution_count": 25,
   "id": "d8b11c7d",
   "metadata": {},
   "outputs": [
    {
     "name": "stdout",
     "output_type": "stream",
     "text": [
      "Enter the radius of circle : 5\n",
      "78.53981633974483\n",
      "area : 5.0is 78.53981633974483\n"
     ]
    }
   ],
   "source": [
    "from math import pi\n",
    "\n",
    "r = float(input(\"Enter the radius of circle : \"))\n",
    "area = pi * pow(r, 2)\n",
    "print(area)\n",
    "\n",
    "# or we can do this way\n",
    "# print(\"area : \"+str(r) + \"is \" + str(pi * r**2))"
   ]
  },
  {
   "cell_type": "markdown",
   "id": "673d06c8",
   "metadata": {},
   "source": [
    "### 10. How to print first and last name in reverse order"
   ]
  },
  {
   "cell_type": "code",
   "execution_count": 33,
   "id": "5a767ef1",
   "metadata": {},
   "outputs": [
    {
     "name": "stdout",
     "output_type": "stream",
     "text": [
      "Enter first name and last name : dhanraj patil\n",
      "patil dhanraj \n"
     ]
    }
   ],
   "source": [
    "user = input(\"Enter first name and last name : \")\n",
    "user = user.split()\n",
    "user = user[::-1]\n",
    "word = \"\"\n",
    "for name in user:\n",
    "    word = word + name + \" \"\n",
    "print(word)"
   ]
  },
  {
   "cell_type": "markdown",
   "id": "539c2b5a",
   "metadata": {},
   "source": [
    "### 11. How to create a list and tuple with comma separated numbers"
   ]
  },
  {
   "cell_type": "code",
   "execution_count": null,
   "id": "fea12c63",
   "metadata": {},
   "outputs": [],
   "source": [
    "# values = input(\"Enter some numbers : \")\n",
    "# list = values.split(\",\")\n",
    "# tuple = tuple(list)\n",
    "\n",
    "# print('List : ',list)\n",
    "# print('Tuple : ', tuple)"
   ]
  },
  {
   "cell_type": "markdown",
   "id": "e7d3e634",
   "metadata": {},
   "source": [
    "### 12. How to extract extension from filename"
   ]
  },
  {
   "cell_type": "code",
   "execution_count": 46,
   "id": "2659c65c",
   "metadata": {},
   "outputs": [
    {
     "name": "stdout",
     "output_type": "stream",
     "text": [
      "write the filename : dhanraj.py\n",
      "The extension is 'py'\n"
     ]
    }
   ],
   "source": [
    "fileName = input('write the filename : ')\n",
    "\n",
    "file_extns = fileName.split(\".\")\n",
    "\n",
    "print('The extension is '+ repr(file_extns[-1]))"
   ]
  },
  {
   "cell_type": "markdown",
   "id": "02ede267",
   "metadata": {},
   "source": [
    "### 13. Display the first and last colors from a given list"
   ]
  },
  {
   "cell_type": "code",
   "execution_count": 50,
   "id": "88f074e1",
   "metadata": {},
   "outputs": [
    {
     "name": "stdout",
     "output_type": "stream",
     "text": [
      "red orange\n"
     ]
    }
   ],
   "source": [
    "colours = ['red', 'blue', 'yellow', 'green', 'orange']\n",
    "# print(\"first colour is : \" + colours[0] + \" and Last colour is : \"+colours[-1])\n",
    "\n",
    "# and we solve this way\n",
    "print(\"%s %s\" %(colours[0], colours[-1]))"
   ]
  },
  {
   "cell_type": "markdown",
   "id": "b32505a4",
   "metadata": {},
   "source": [
    "### 14. How to Display a sample examination schedule in python"
   ]
  },
  {
   "cell_type": "code",
   "execution_count": 51,
   "id": "61f5ebb6",
   "metadata": {},
   "outputs": [
    {
     "name": "stdout",
     "output_type": "stream",
     "text": [
      "the exam will start 2 / 2 / 2024 \n"
     ]
    }
   ],
   "source": [
    "exam_date = (2, 2, 2024)\n",
    "\n",
    "print('the exam will start %i / %i / %i ' %exam_date)"
   ]
  },
  {
   "cell_type": "markdown",
   "id": "fa42da36",
   "metadata": {},
   "source": [
    "### 15. How to read a number N and compute n+nn+nnn"
   ]
  },
  {
   "cell_type": "code",
   "execution_count": 54,
   "id": "5c2b1792",
   "metadata": {},
   "outputs": [
    {
     "name": "stdout",
     "output_type": "stream",
     "text": [
      "Enter a number : 3\n",
      "31\n",
      "331\n",
      "3331\n",
      "3\n"
     ]
    }
   ],
   "source": [
    "a = int(input('Enter a number : '))\n",
    "num1 = int(input('%s' %a))\n",
    "num2 = int(input('%s%s' %(a,a)))\n",
    "num3 = int(input('%s%s%s' %(a,a,a)))\n",
    "\n",
    "print(num1 + num2 + num2)"
   ]
  },
  {
   "cell_type": "markdown",
   "id": "a21537c4",
   "metadata": {},
   "source": [
    "### 16. How to find the biggest and smallest of 3 numbers"
   ]
  },
  {
   "cell_type": "code",
   "execution_count": 3,
   "id": "64bc0b5b",
   "metadata": {},
   "outputs": [
    {
     "name": "stdout",
     "output_type": "stream",
     "text": [
      "first smallest 3 elements :  [0, 1, 2]\n",
      "first largest 3 elements :  [20, 50, 55]\n"
     ]
    }
   ],
   "source": [
    "num_list = [10, 20, 2, 4, 50, 0, 1, 55]\n",
    "sorted_list = sorted(num_list)\n",
    "\n",
    "print('first smallest 3 elements : ',sorted(sorted_list[:3]))\n",
    "print('first largest 3 elements : ',sorted(sorted_list[-3:]))"
   ]
  },
  {
   "cell_type": "markdown",
   "id": "476fa560",
   "metadata": {},
   "source": [
    "### 17. How to get a string which is N copies of a given string "
   ]
  },
  {
   "cell_type": "code",
   "execution_count": 4,
   "id": "4c372608",
   "metadata": {},
   "outputs": [
    {
     "name": "stdout",
     "output_type": "stream",
     "text": [
      "abcabc\n",
      ".py.py.py.py\n"
     ]
    }
   ],
   "source": [
    "def integer_string(str, n):\n",
    "    result = \"\"\n",
    "    for x in range(n):\n",
    "        result += str\n",
    "    return result\n",
    "\n",
    "print(integer_string('abc', 2))\n",
    "print(integer_string('.py',4))"
   ]
  },
  {
   "cell_type": "markdown",
   "id": "83cf0eee",
   "metadata": {},
   "source": [
    "### 18. How to check if item is in list"
   ]
  },
  {
   "cell_type": "code",
   "execution_count": 7,
   "id": "2f743e97",
   "metadata": {},
   "outputs": [
    {
     "name": "stdout",
     "output_type": "stream",
     "text": [
      "True\n"
     ]
    }
   ],
   "source": [
    "def is_group_number(group_data, n):\n",
    "    for value in group_data:\n",
    "        if n == value:\n",
    "            return True\n",
    "    return False\n",
    "\n",
    "print(is_group_number([1,2,3,4,45,4], 45))"
   ]
  },
  {
   "cell_type": "markdown",
   "id": "733ee3bc",
   "metadata": {},
   "source": [
    "### 19. How to create a histogram from a given list of integer"
   ]
  },
  {
   "cell_type": "code",
   "execution_count": 13,
   "id": "2f5c8f9c",
   "metadata": {},
   "outputs": [
    {
     "name": "stdout",
     "output_type": "stream",
     "text": [
      "**\n",
      "*\n",
      "***\n",
      "******\n",
      "*****\n"
     ]
    }
   ],
   "source": [
    "def histogram(items):\n",
    "    for n in items:\n",
    "        output = ''\n",
    "        times = n\n",
    "        while times > 0:\n",
    "            output += '*'\n",
    "            times = times - 1\n",
    "        print(output)\n",
    "        \n",
    "histogram([2, 1, 3, 6, 5])"
   ]
  },
  {
   "cell_type": "markdown",
   "id": "6df015e1",
   "metadata": {},
   "source": [
    "### 20. How to turn a list into a string "
   ]
  },
  {
   "cell_type": "code",
   "execution_count": 16,
   "id": "1501c1a9",
   "metadata": {},
   "outputs": [
    {
     "name": "stdout",
     "output_type": "stream",
     "text": [
      "13456\n",
      "me30to\n"
     ]
    }
   ],
   "source": [
    "def concatenate_list(list):\n",
    "    result = ''\n",
    "    for element in list:\n",
    "        result += str(element)\n",
    "    return result\n",
    "\n",
    "print(concatenate_list([1, 3, 4, 5, 6]))\n",
    "print(concatenate_list(['me', 30, 'to']))"
   ]
  },
  {
   "cell_type": "markdown",
   "id": "e66e229d",
   "metadata": {},
   "source": [
    "### 21. How to find the greatest common divisor GCD"
   ]
  },
  {
   "cell_type": "code",
   "execution_count": 18,
   "id": "8254c79a",
   "metadata": {},
   "outputs": [
    {
     "name": "stdout",
     "output_type": "stream",
     "text": [
      "2\n"
     ]
    }
   ],
   "source": [
    "def gcd(x, y):\n",
    "    gcd = 1\n",
    "    \n",
    "    if x % y == 0:\n",
    "        return y\n",
    "    \n",
    "    for k in range(int(y/2), 0, -1):\n",
    "        if x%k == 0 and y % k == 0:\n",
    "            gcd = k\n",
    "            break\n",
    "    return gcd\n",
    "\n",
    "print(gcd(2, 22))"
   ]
  },
  {
   "cell_type": "markdown",
   "id": "3f7f6305",
   "metadata": {},
   "source": [
    "### 22. How to swap 2 variables "
   ]
  },
  {
   "cell_type": "code",
   "execution_count": 20,
   "id": "ecf676c2",
   "metadata": {},
   "outputs": [
    {
     "name": "stdout",
     "output_type": "stream",
     "text": [
      "Before swapping a =  10  b =  20\n",
      "After swapping a =  20  b =  10\n"
     ]
    }
   ],
   "source": [
    "a, b = 10, 20\n",
    "print('Before swapping a = ',a, ' b = ', b)\n",
    "a, b = b, a\n",
    "print('After swapping a = ',a, ' b = ', b)"
   ]
  },
  {
   "cell_type": "markdown",
   "id": "7d8e12d6",
   "metadata": {},
   "source": [
    "### 23. How to add lading zeroes to a string"
   ]
  },
  {
   "cell_type": "code",
   "execution_count": null,
   "id": "162ea961",
   "metadata": {},
   "outputs": [],
   "source": [
    "# str1 = '122.22'\n",
    "# print('original string : ', str1)\n",
    "# str1 = str1.ljust(8, '0')\n",
    "# print(str1)\n",
    "# str1 = str.ljust(10, '0')\n",
    "# print(s)"
   ]
  },
  {
   "cell_type": "markdown",
   "id": "224c44d0",
   "metadata": {},
   "source": [
    "# Collection data types"
   ]
  },
  {
   "cell_type": "markdown",
   "id": "e40e1553",
   "metadata": {},
   "source": [
    "### 24. How to remove duplicates from a list"
   ]
  },
  {
   "cell_type": "code",
   "execution_count": 2,
   "id": "046638cf",
   "metadata": {},
   "outputs": [
    {
     "name": "stdout",
     "output_type": "stream",
     "text": [
      "{40, 10, 80, 50, 20, 60, 30}\n"
     ]
    }
   ],
   "source": [
    "a = [10,20,30,20,10,50,60,40,80,50,40]\n",
    "\n",
    "dup_elements = set()\n",
    "uniq_items = []\n",
    "\n",
    "for x in a:\n",
    "    if x not in dup_elements:\n",
    "        uniq_items.append(x)\n",
    "        dup_elements.add(x)\n",
    "\n",
    "print(dup_elements)"
   ]
  },
  {
   "cell_type": "markdown",
   "id": "b06969a7",
   "metadata": {},
   "source": [
    "### 25. How to clone or copy a list"
   ]
  },
  {
   "cell_type": "code",
   "execution_count": 7,
   "id": "43347ed5",
   "metadata": {},
   "outputs": [
    {
     "name": "stdout",
     "output_type": "stream",
     "text": [
      "[10, 22, 44, 23, 4]\n",
      "[10, 22, 44, 23, 4]\n"
     ]
    }
   ],
   "source": [
    "original_list = [10, 22,44, 23, 4]\n",
    "new_list = list(original_list)\n",
    "print(original_list)\n",
    "print(new_list)"
   ]
  },
  {
   "cell_type": "markdown",
   "id": "0920a579",
   "metadata": {},
   "source": [
    "### 26. How to check if a list is empty"
   ]
  },
  {
   "cell_type": "code",
   "execution_count": 8,
   "id": "df08c9a5",
   "metadata": {},
   "outputs": [
    {
     "name": "stdout",
     "output_type": "stream",
     "text": [
      "list is empty\n"
     ]
    }
   ],
   "source": [
    "l = []\n",
    "if not l:\n",
    "    print('list is empty')"
   ]
  },
  {
   "cell_type": "markdown",
   "id": "8e9b13a5",
   "metadata": {},
   "source": [
    "### 27. How to print all unique values in a dictionary"
   ]
  },
  {
   "cell_type": "code",
   "execution_count": null,
   "id": "9da9ba95",
   "metadata": {},
   "outputs": [],
   "source": [
    "l = [{'v':'s001'}, {'v': 's002'}, {'v': 's009'}, {'viii': 's007'}]"
   ]
  },
  {
   "cell_type": "markdown",
   "id": "5ffedd63",
   "metadata": {},
   "source": [
    "###"
   ]
  },
  {
   "cell_type": "code",
   "execution_count": null,
   "id": "a469af80",
   "metadata": {},
   "outputs": [],
   "source": []
  },
  {
   "cell_type": "markdown",
   "id": "e8dfaa1a",
   "metadata": {},
   "source": [
    "###"
   ]
  },
  {
   "cell_type": "code",
   "execution_count": null,
   "id": "a1fdea5b",
   "metadata": {},
   "outputs": [],
   "source": []
  },
  {
   "cell_type": "markdown",
   "id": "f37db8e7",
   "metadata": {},
   "source": [
    "###"
   ]
  },
  {
   "cell_type": "code",
   "execution_count": null,
   "id": "12964e4a",
   "metadata": {},
   "outputs": [],
   "source": []
  },
  {
   "cell_type": "markdown",
   "id": "7ba8c5e5",
   "metadata": {},
   "source": [
    "###"
   ]
  },
  {
   "cell_type": "code",
   "execution_count": null,
   "id": "11ab21c2",
   "metadata": {},
   "outputs": [],
   "source": []
  },
  {
   "cell_type": "markdown",
   "id": "e042deb5",
   "metadata": {},
   "source": [
    "###"
   ]
  },
  {
   "cell_type": "code",
   "execution_count": null,
   "id": "cf485f05",
   "metadata": {},
   "outputs": [],
   "source": []
  },
  {
   "cell_type": "markdown",
   "id": "4564c6ca",
   "metadata": {},
   "source": [
    "###"
   ]
  },
  {
   "cell_type": "code",
   "execution_count": null,
   "id": "4c6b88c2",
   "metadata": {},
   "outputs": [],
   "source": []
  },
  {
   "cell_type": "markdown",
   "id": "857a44c7",
   "metadata": {},
   "source": [
    "###"
   ]
  },
  {
   "cell_type": "code",
   "execution_count": null,
   "id": "8d549dd9",
   "metadata": {},
   "outputs": [],
   "source": []
  },
  {
   "cell_type": "markdown",
   "id": "463ac241",
   "metadata": {},
   "source": [
    "###"
   ]
  },
  {
   "cell_type": "code",
   "execution_count": null,
   "id": "0ccd7ddc",
   "metadata": {},
   "outputs": [],
   "source": []
  },
  {
   "cell_type": "code",
   "execution_count": null,
   "id": "d460f05c",
   "metadata": {},
   "outputs": [],
   "source": []
  },
  {
   "cell_type": "code",
   "execution_count": null,
   "id": "6bb4bd89",
   "metadata": {},
   "outputs": [],
   "source": []
  },
  {
   "cell_type": "code",
   "execution_count": null,
   "id": "b0ca50bc",
   "metadata": {},
   "outputs": [],
   "source": []
  },
  {
   "cell_type": "code",
   "execution_count": null,
   "id": "55c606ea",
   "metadata": {},
   "outputs": [],
   "source": []
  },
  {
   "cell_type": "code",
   "execution_count": null,
   "id": "84f7f1b2",
   "metadata": {},
   "outputs": [],
   "source": []
  },
  {
   "cell_type": "code",
   "execution_count": null,
   "id": "2c907839",
   "metadata": {},
   "outputs": [],
   "source": []
  },
  {
   "cell_type": "code",
   "execution_count": null,
   "id": "8ac42603",
   "metadata": {},
   "outputs": [],
   "source": []
  },
  {
   "cell_type": "code",
   "execution_count": null,
   "id": "c47353d2",
   "metadata": {},
   "outputs": [],
   "source": []
  },
  {
   "cell_type": "code",
   "execution_count": null,
   "id": "97eacd49",
   "metadata": {},
   "outputs": [],
   "source": []
  },
  {
   "cell_type": "code",
   "execution_count": null,
   "id": "d563f81b",
   "metadata": {},
   "outputs": [],
   "source": []
  },
  {
   "cell_type": "code",
   "execution_count": null,
   "id": "929b6d75",
   "metadata": {},
   "outputs": [],
   "source": []
  },
  {
   "cell_type": "code",
   "execution_count": null,
   "id": "d658e308",
   "metadata": {},
   "outputs": [],
   "source": []
  },
  {
   "cell_type": "code",
   "execution_count": null,
   "id": "f7460f4d",
   "metadata": {},
   "outputs": [],
   "source": []
  },
  {
   "cell_type": "code",
   "execution_count": null,
   "id": "8ee63738",
   "metadata": {},
   "outputs": [],
   "source": []
  },
  {
   "cell_type": "code",
   "execution_count": null,
   "id": "84aa4dd8",
   "metadata": {},
   "outputs": [],
   "source": []
  },
  {
   "cell_type": "code",
   "execution_count": null,
   "id": "0368bbb4",
   "metadata": {},
   "outputs": [],
   "source": []
  },
  {
   "cell_type": "code",
   "execution_count": null,
   "id": "79f5017e",
   "metadata": {},
   "outputs": [],
   "source": []
  },
  {
   "cell_type": "code",
   "execution_count": null,
   "id": "37f88eb5",
   "metadata": {},
   "outputs": [],
   "source": []
  },
  {
   "cell_type": "code",
   "execution_count": null,
   "id": "18da4363",
   "metadata": {},
   "outputs": [],
   "source": []
  },
  {
   "cell_type": "code",
   "execution_count": null,
   "id": "f3f727b7",
   "metadata": {},
   "outputs": [],
   "source": []
  },
  {
   "cell_type": "code",
   "execution_count": null,
   "id": "52f46b1d",
   "metadata": {},
   "outputs": [],
   "source": []
  },
  {
   "cell_type": "code",
   "execution_count": null,
   "id": "df352935",
   "metadata": {},
   "outputs": [],
   "source": []
  },
  {
   "cell_type": "code",
   "execution_count": null,
   "id": "9aec739b",
   "metadata": {},
   "outputs": [],
   "source": []
  },
  {
   "cell_type": "markdown",
   "id": "cc06bded",
   "metadata": {},
   "source": []
  },
  {
   "cell_type": "code",
   "execution_count": null,
   "id": "2002cf8a",
   "metadata": {},
   "outputs": [],
   "source": []
  },
  {
   "cell_type": "code",
   "execution_count": null,
   "id": "895fe2a7",
   "metadata": {},
   "outputs": [],
   "source": []
  },
  {
   "cell_type": "code",
   "execution_count": null,
   "id": "9809526d",
   "metadata": {},
   "outputs": [],
   "source": []
  },
  {
   "cell_type": "code",
   "execution_count": null,
   "id": "9199c8ca",
   "metadata": {},
   "outputs": [],
   "source": []
  },
  {
   "cell_type": "code",
   "execution_count": null,
   "id": "645a1ccb",
   "metadata": {},
   "outputs": [],
   "source": []
  },
  {
   "cell_type": "code",
   "execution_count": null,
   "id": "40905f45",
   "metadata": {},
   "outputs": [],
   "source": []
  },
  {
   "cell_type": "code",
   "execution_count": null,
   "id": "12a25b7a",
   "metadata": {},
   "outputs": [],
   "source": []
  },
  {
   "cell_type": "code",
   "execution_count": null,
   "id": "d0e7b4df",
   "metadata": {},
   "outputs": [],
   "source": []
  },
  {
   "cell_type": "markdown",
   "id": "9f98f5ac",
   "metadata": {},
   "source": [
    "# "
   ]
  },
  {
   "cell_type": "code",
   "execution_count": null,
   "id": "c84bb38c",
   "metadata": {},
   "outputs": [],
   "source": []
  }
 ],
 "metadata": {
  "kernelspec": {
   "display_name": "Python 3 (ipykernel)",
   "language": "python",
   "name": "python3"
  },
  "language_info": {
   "codemirror_mode": {
    "name": "ipython",
    "version": 3
   },
   "file_extension": ".py",
   "mimetype": "text/x-python",
   "name": "python",
   "nbconvert_exporter": "python",
   "pygments_lexer": "ipython3",
   "version": "3.10.1"
  }
 },
 "nbformat": 4,
 "nbformat_minor": 5
}
