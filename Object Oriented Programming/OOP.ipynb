{
 "cells": [
  {
   "cell_type": "code",
   "execution_count": 2,
   "id": "e3096e7f",
   "metadata": {},
   "outputs": [
    {
     "name": "stdout",
     "output_type": "stream",
     "text": [
      "<__main__.Car object at 0x0000023759BDBFA0>\n"
     ]
    }
   ],
   "source": [
    "# Problem-1 : create a Car class with attribute like brand and model. Then create an instance of this class\n",
    "\n",
    "class Car:\n",
    "    brand = None\n",
    "    model = None\n",
    "    \n",
    "    \n",
    "obj = Car()\n",
    "print(obj)"
   ]
  },
  {
   "cell_type": "code",
   "execution_count": 7,
   "id": "aaac4e15",
   "metadata": {},
   "outputs": [
    {
     "name": "stdout",
     "output_type": "stream",
     "text": [
      "Toyata\n",
      "Corolla\n",
      "Tata Safari\n"
     ]
    }
   ],
   "source": [
    "class Car:\n",
    "    def __init__(self, brand, model):\n",
    "        self.brand = brand\n",
    "        self.model = model\n",
    "        \n",
    "    \n",
    "obj = Car('Toyata', 'Corolla')\n",
    "print(obj.brand)\n",
    "print(obj.model)\n",
    "\n",
    "obj1 = Car('Tata', 'Safari')\n",
    "print(obj1.brand, obj1.model)"
   ]
  },
  {
   "cell_type": "code",
   "execution_count": 11,
   "id": "1cdda006",
   "metadata": {},
   "outputs": [
    {
     "name": "stdout",
     "output_type": "stream",
     "text": [
      "Toyata Corolla\n"
     ]
    }
   ],
   "source": [
    "# Problem-2 : Add a method to the car class that displays the full name of the car (brand and model) \n",
    "\n",
    "class Car:\n",
    "    def __init__(self, brand, model):\n",
    "        self.brand = brand\n",
    "        self.model = model\n",
    "        \n",
    "    def full_name(self):\n",
    "        return f'{self.brand} {self.model}'\n",
    "        \n",
    "    \n",
    "obj = Car('Toyata', 'Corolla')\n",
    "print(obj.full_name())"
   ]
  },
  {
   "cell_type": "markdown",
   "id": "47c61c72",
   "metadata": {},
   "source": [
    "# Inheritance"
   ]
  },
  {
   "cell_type": "code",
   "execution_count": 14,
   "id": "b942343c",
   "metadata": {},
   "outputs": [
    {
     "name": "stdout",
     "output_type": "stream",
     "text": [
      "Tesla Model S 85kwh\n"
     ]
    }
   ],
   "source": [
    "# Problem-3 : create an electric Car class that inherits from the car class and has an additional attributes battery_size\n",
    "\n",
    "class ElectricCar(Car):\n",
    "    def __init__(self,  brand, model, battery_size):\n",
    "        super().__init__(brand, model)\n",
    "        self.battery_size = battery_size\n",
    "        \n",
    "my_tesla = ElectricCar('Tesla', 'Model S', '85kwh')\n",
    "print(my_tesla.full_name(), my_tesla.battery_size)"
   ]
  },
  {
   "cell_type": "markdown",
   "id": "9c6263ba",
   "metadata": {},
   "source": [
    "# Encapsulation"
   ]
  },
  {
   "cell_type": "code",
   "execution_count": null,
   "id": "d1b788a5",
   "metadata": {},
   "outputs": [],
   "source": [
    "# Problem : modify the car class to encapsulate the brand attribute making a private and provide a getter method for it"
   ]
  },
  {
   "cell_type": "code",
   "execution_count": 21,
   "id": "f4a140e9",
   "metadata": {},
   "outputs": [
    {
     "name": "stdout",
     "output_type": "stream",
     "text": [
      "Toyata!\n"
     ]
    }
   ],
   "source": [
    "class Car:\n",
    "    def __init__(self, brand, model):\n",
    "        self.__brand = brand\n",
    "        self.model = model\n",
    "        \n",
    "    def get_brand(self):\n",
    "        return self.__brand + '!'\n",
    "    \n",
    "obj = Car('Toyata', 'Corolla')\n",
    "# print(obj.brand)\n",
    "print(obj.get_brand())"
   ]
  },
  {
   "cell_type": "markdown",
   "id": "281d7b4b",
   "metadata": {},
   "source": [
    "# Polymorphism"
   ]
  },
  {
   "cell_type": "code",
   "execution_count": 22,
   "id": "e7bed648",
   "metadata": {},
   "outputs": [
    {
     "name": "stdout",
     "output_type": "stream",
     "text": [
      "Electric charge\n",
      "Petrol or Diesel\n"
     ]
    }
   ],
   "source": [
    "# Demostrate polymorphism by defining a method fuel_type in both car and electric car class but with different behaviours\n",
    "\n",
    "\n",
    "class Car:\n",
    "    def __init__(self, brand, model):\n",
    "        self.brand = brand\n",
    "        self.model = model\n",
    "        \n",
    "    def full_name(self):\n",
    "        return f'{self.brand} {self.model}'\n",
    "        \n",
    "    \n",
    "    def fuel_type(self):\n",
    "        return 'Petrol or Diesel'\n",
    "\n",
    "\n",
    "    \n",
    "class ElectricCar(Car):\n",
    "    def __init__(self,  brand, model, battery_size):\n",
    "        super().__init__(brand, model)\n",
    "        self.battery_size = battery_size\n",
    "        \n",
    "    def fuel_type(self):\n",
    "        return 'Electric charge'\n",
    "    \n",
    "    \n",
    "        \n",
    "my_tesla = ElectricCar('Tesla', 'Model S', '85kwh')\n",
    "print(my_tesla.fuel_type())\n",
    "\n",
    "\n",
    "safari = Car('Tata', 'Safari')\n",
    "print(safari.fuel_type())"
   ]
  },
  {
   "cell_type": "markdown",
   "id": "b3d4ee72",
   "metadata": {},
   "source": [
    "# Class Variables"
   ]
  },
  {
   "cell_type": "code",
   "execution_count": 31,
   "id": "859ccc42",
   "metadata": {},
   "outputs": [
    {
     "name": "stdout",
     "output_type": "stream",
     "text": [
      "Electric charge\n",
      "Petrol or Diesel\n",
      "2\n"
     ]
    }
   ],
   "source": [
    "# add a class variable to car that keeps the trackof the number of cars created\n",
    "\n",
    "\n",
    "\n",
    "class Car:\n",
    "    \n",
    "    total_car = 0\n",
    "    \n",
    "    def __init__(self, brand, model):\n",
    "        self.brand = brand\n",
    "        self.model = model\n",
    "        Car.total_car += 1   # self.total_car += 1\n",
    "        \n",
    "    def full_name(self):\n",
    "        return f'{self.brand} {self.model}'\n",
    "        \n",
    "    \n",
    "    def fuel_type(self):\n",
    "        return 'Petrol or Diesel'\n",
    "\n",
    "\n",
    "    \n",
    "class ElectricCar(Car):\n",
    "    def __init__(self,  brand, model, battery_size):\n",
    "        super().__init__(brand, model)\n",
    "        self.battery_size = battery_size\n",
    "        \n",
    "    def fuel_type(self):\n",
    "        return 'Electric charge'\n",
    "    \n",
    "    \n",
    "        \n",
    "my_tesla = ElectricCar('Tesla', 'Model S', '85kwh')\n",
    "print(my_tesla.fuel_type())\n",
    "\n",
    "\n",
    "safari = Car('Tata', 'Safari')\n",
    "print(safari.fuel_type())\n",
    "\n",
    "print(Car.total_car)"
   ]
  },
  {
   "cell_type": "markdown",
   "id": "2cf9488e",
   "metadata": {},
   "source": [
    "# Static method"
   ]
  },
  {
   "cell_type": "code",
   "execution_count": 34,
   "id": "c12464db",
   "metadata": {},
   "outputs": [
    {
     "name": "stdout",
     "output_type": "stream",
     "text": [
      "Electric charge\n",
      "Petrol or Diesel\n",
      "Cars are means of transport\n"
     ]
    }
   ],
   "source": [
    "\n",
    "class Car:\n",
    "    \n",
    "    total_car = 0\n",
    "    \n",
    "    def __init__(self, brand, model):\n",
    "        self.brand = brand\n",
    "        self.model = model\n",
    "        Car.total_car += 1   # self.total_car += 1\n",
    "        \n",
    "    def full_name(self):\n",
    "        return f'{self.brand} {self.model}'\n",
    "        \n",
    "    \n",
    "    def fuel_type(self):\n",
    "        return 'Petrol or Diesel'\n",
    "\n",
    "    @staticmethod     # this methos are accessible to class but not for object references\n",
    "    def general_descriptionself():\n",
    "        return 'Cars are means of transport'\n",
    "\n",
    "    \n",
    "    \n",
    "class ElectricCar(Car):\n",
    "    def __init__(self,  brand, model, battery_size):\n",
    "        super().__init__(brand, model)\n",
    "        self.battery_size = battery_size\n",
    "        \n",
    "    def fuel_type(self):\n",
    "        return 'Electric charge'\n",
    "    \n",
    "    \n",
    "        \n",
    "my_tesla = ElectricCar('Tesla', 'Model S', '85kwh')\n",
    "print(my_tesla.fuel_type())\n",
    "\n",
    "\n",
    "safari = Car('Tata', 'Safari')\n",
    "print(safari.fuel_type())\n",
    "\n",
    "print(Car.general_descriptionself())\n",
    "\n",
    "# print(safari.general_descriptionself())"
   ]
  },
  {
   "cell_type": "code",
   "execution_count": 1,
   "id": "8a543f72",
   "metadata": {},
   "outputs": [
    {
     "name": "stdout",
     "output_type": "stream",
     "text": [
      "Electric charge\n",
      "Petrol or Diesel\n",
      "Cars are means of transport\n",
      "<bound method Car.model of <__main__.Car object at 0x0000013116CB9BA0>>\n"
     ]
    }
   ],
   "source": [
    "class Car:\n",
    "    \n",
    "    total_car = 0\n",
    "    \n",
    "    def __init__(self, brand, model):\n",
    "        self.__brand = brand\n",
    "        self.__model = model\n",
    "        Car.total_car += 1   # self.total_car += 1\n",
    "        \n",
    "    def full_name(self):\n",
    "        return f'{self.brand} {self.model}'\n",
    "        \n",
    "    \n",
    "    def fuel_type(self):\n",
    "        return 'Petrol or Diesel'\n",
    "\n",
    "    @staticmethod     # this methos are accessible to class but not for object references\n",
    "    def general_descriptionself():\n",
    "        return 'Cars are means of transport'\n",
    "    \n",
    "    \n",
    "    def model(self):\n",
    "        return self.__model\n",
    "        \n",
    "    \n",
    "    \n",
    "class ElectricCar(Car):\n",
    "    def __init__(self,  brand, model, battery_size):\n",
    "        super().__init__(brand, model)\n",
    "        self.battery_size = battery_size\n",
    "        \n",
    "    def fuel_type(self):\n",
    "        return 'Electric charge'\n",
    "    \n",
    "    \n",
    "        \n",
    "my_tesla = ElectricCar('Tesla', 'Model S', '85kwh')\n",
    "print(my_tesla.fuel_type())\n",
    "\n",
    "\n",
    "safari = Car('Tata', 'Safari')\n",
    "print(safari.fuel_type())\n",
    "\n",
    "print(Car.general_descriptionself())\n",
    "\n",
    "\n",
    "print(safari.model)"
   ]
  },
  {
   "cell_type": "code",
   "execution_count": null,
   "id": "bc36dc81",
   "metadata": {},
   "outputs": [],
   "source": []
  },
  {
   "cell_type": "code",
   "execution_count": null,
   "id": "4e6601e5",
   "metadata": {},
   "outputs": [],
   "source": []
  },
  {
   "cell_type": "code",
   "execution_count": null,
   "id": "81742e1d",
   "metadata": {},
   "outputs": [],
   "source": []
  },
  {
   "cell_type": "code",
   "execution_count": null,
   "id": "1a08d872",
   "metadata": {},
   "outputs": [],
   "source": []
  },
  {
   "cell_type": "code",
   "execution_count": null,
   "id": "54f9f255",
   "metadata": {},
   "outputs": [],
   "source": []
  },
  {
   "cell_type": "code",
   "execution_count": null,
   "id": "137490ac",
   "metadata": {},
   "outputs": [],
   "source": []
  },
  {
   "cell_type": "code",
   "execution_count": null,
   "id": "70b14786",
   "metadata": {},
   "outputs": [],
   "source": []
  },
  {
   "cell_type": "code",
   "execution_count": null,
   "id": "d0660be5",
   "metadata": {},
   "outputs": [],
   "source": []
  }
 ],
 "metadata": {
  "kernelspec": {
   "display_name": "Python 3 (ipykernel)",
   "language": "python",
   "name": "python3"
  },
  "language_info": {
   "codemirror_mode": {
    "name": "ipython",
    "version": 3
   },
   "file_extension": ".py",
   "mimetype": "text/x-python",
   "name": "python",
   "nbconvert_exporter": "python",
   "pygments_lexer": "ipython3",
   "version": "3.10.1"
  }
 },
 "nbformat": 4,
 "nbformat_minor": 5
}
